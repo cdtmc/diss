{
 "cells": [
  {
   "cell_type": "code",
   "execution_count": 1,
   "metadata": {},
   "outputs": [],
   "source": [
    "import warnings; warnings.simplefilter('ignore')"
   ]
  },
  {
   "cell_type": "code",
   "execution_count": 2,
   "metadata": {},
   "outputs": [],
   "source": [
    "import matplotlib.pyplot as plt \n",
    "import numpy as np\n",
    "import pandas as pd\n",
    "import pystan\n",
    "from datetime import datetime, timedelta\n",
    "\n",
    "from time import sleep\n",
    "import os\n",
    "from IPython.display import display\n",
    "\n",
    "%matplotlib inline "
   ]
  },
  {
   "cell_type": "code",
   "execution_count": 3,
   "metadata": {},
   "outputs": [],
   "source": [
    "%load_ext autoreload\n",
    "%autoreload 2\n",
    "\n",
    "from functions.helper_functions import (StanModel_cache,\n",
    "                                        vb, model_dict,\n",
    "                                        get_sector_assignment_dict,)\n",
    "\n",
    "run_in_parallel = False"
   ]
  },
  {
   "cell_type": "code",
   "execution_count": null,
   "metadata": {},
   "outputs": [],
   "source": []
  },
  {
   "cell_type": "markdown",
   "metadata": {},
   "source": [
    "<h3>Run the following cell, if you want to run different models in parallel, otherwise skip the cell.</h3>\n",
    "<p>Before running the cell, start clusters. E.g. run 'ipcluster start -n 4'.</p>\n",
    "<p>More information on: https://ipyparallel.readthedocs.io/en/latest/intro.html#getting-started </p>"
   ]
  },
  {
   "cell_type": "code",
   "execution_count": 4,
   "metadata": {},
   "outputs": [
    {
     "name": "stdout",
     "output_type": "stream",
     "text": [
      "importing numpy on engine(s)\n",
      "importing pandas on engine(s)\n",
      "importing pystan on engine(s)\n",
      "importing vb,model_dict from functions.helper_functions on engine(s)\n",
      "[0, 1, 2, 3]\n"
     ]
    }
   ],
   "source": [
    "import ipyparallel as ipp\n",
    "\n",
    "rc = ipp.Client()\n",
    "dview = rc.load_balanced_view()\n",
    "\n",
    "with rc[:].sync_imports():\n",
    "    import numpy as np\n",
    "    import pandas as pd\n",
    "    import pystan\n",
    "    from functions.helper_functions import (vb, model_dict)\n",
    "print(rc.ids)\n",
    "\n",
    "run_in_parallel = True"
   ]
  },
  {
   "cell_type": "markdown",
   "metadata": {},
   "source": [
    "<h1>Load Data</h1>"
   ]
  },
  {
   "cell_type": "code",
   "execution_count": 5,
   "metadata": {
    "scrolled": true
   },
   "outputs": [
    {
     "name": "stdout",
     "output_type": "stream",
     "text": [
      "number of nan's: 0\n",
      "shape data: (250, 20)\n"
     ]
    },
    {
     "data": {
      "text/html": [
       "<div>\n",
       "<style scoped>\n",
       "    .dataframe tbody tr th:only-of-type {\n",
       "        vertical-align: middle;\n",
       "    }\n",
       "\n",
       "    .dataframe tbody tr th {\n",
       "        vertical-align: top;\n",
       "    }\n",
       "\n",
       "    .dataframe thead th {\n",
       "        text-align: right;\n",
       "    }\n",
       "</style>\n",
       "<table border=\"1\" class=\"dataframe\">\n",
       "  <thead>\n",
       "    <tr style=\"text-align: right;\">\n",
       "      <th></th>\n",
       "      <th>XLM-USD</th>\n",
       "      <th>BCH-USD</th>\n",
       "      <th>ADA-USD</th>\n",
       "      <th>LTC-USD</th>\n",
       "      <th>BTC-USD</th>\n",
       "      <th>XRP-USD</th>\n",
       "      <th>MANA-USD</th>\n",
       "      <th>BAT-USD</th>\n",
       "      <th>USDT-USD</th>\n",
       "      <th>ETH-USD</th>\n",
       "      <th>FIL-USD</th>\n",
       "      <th>BNT-USD</th>\n",
       "      <th>BNB-USD</th>\n",
       "      <th>ZEC-USD</th>\n",
       "      <th>XMR-USD</th>\n",
       "      <th>DOGE-USD</th>\n",
       "      <th>DASH-USD</th>\n",
       "      <th>MIOTA-USD</th>\n",
       "      <th>TRX-USD</th>\n",
       "      <th>THETA-USD</th>\n",
       "    </tr>\n",
       "    <tr>\n",
       "      <th>Date</th>\n",
       "      <th></th>\n",
       "      <th></th>\n",
       "      <th></th>\n",
       "      <th></th>\n",
       "      <th></th>\n",
       "      <th></th>\n",
       "      <th></th>\n",
       "      <th></th>\n",
       "      <th></th>\n",
       "      <th></th>\n",
       "      <th></th>\n",
       "      <th></th>\n",
       "      <th></th>\n",
       "      <th></th>\n",
       "      <th></th>\n",
       "      <th></th>\n",
       "      <th></th>\n",
       "      <th></th>\n",
       "      <th></th>\n",
       "      <th></th>\n",
       "    </tr>\n",
       "  </thead>\n",
       "  <tbody>\n",
       "    <tr>\n",
       "      <th>2018-01-30</th>\n",
       "      <td>-0.169078</td>\n",
       "      <td>-0.112598</td>\n",
       "      <td>-0.146487</td>\n",
       "      <td>-0.090210</td>\n",
       "      <td>-0.105352</td>\n",
       "      <td>-0.140041</td>\n",
       "      <td>-0.157442</td>\n",
       "      <td>-0.161097</td>\n",
       "      <td>-0.008875</td>\n",
       "      <td>-0.094075</td>\n",
       "      <td>-0.014966</td>\n",
       "      <td>-0.116169</td>\n",
       "      <td>-0.118595</td>\n",
       "      <td>-0.145205</td>\n",
       "      <td>-0.134581</td>\n",
       "      <td>-0.135352</td>\n",
       "      <td>-0.118246</td>\n",
       "      <td>-0.138811</td>\n",
       "      <td>-0.159998</td>\n",
       "      <td>-0.231703</td>\n",
       "    </tr>\n",
       "    <tr>\n",
       "      <th>2018-01-31</th>\n",
       "      <td>0.102418</td>\n",
       "      <td>0.011111</td>\n",
       "      <td>-0.023684</td>\n",
       "      <td>-0.011647</td>\n",
       "      <td>0.011359</td>\n",
       "      <td>0.020930</td>\n",
       "      <td>0.126620</td>\n",
       "      <td>0.015149</td>\n",
       "      <td>0.003840</td>\n",
       "      <td>0.044047</td>\n",
       "      <td>0.015528</td>\n",
       "      <td>0.033437</td>\n",
       "      <td>-0.009395</td>\n",
       "      <td>0.037572</td>\n",
       "      <td>-0.004113</td>\n",
       "      <td>-0.002324</td>\n",
       "      <td>0.030357</td>\n",
       "      <td>0.040288</td>\n",
       "      <td>0.012890</td>\n",
       "      <td>0.006393</td>\n",
       "    </tr>\n",
       "    <tr>\n",
       "      <th>2018-02-01</th>\n",
       "      <td>-0.154395</td>\n",
       "      <td>-0.142943</td>\n",
       "      <td>-0.188023</td>\n",
       "      <td>-0.128888</td>\n",
       "      <td>-0.102783</td>\n",
       "      <td>-0.171939</td>\n",
       "      <td>-0.202484</td>\n",
       "      <td>-0.106391</td>\n",
       "      <td>-0.003368</td>\n",
       "      <td>-0.072896</td>\n",
       "      <td>-0.047941</td>\n",
       "      <td>-0.070738</td>\n",
       "      <td>-0.146179</td>\n",
       "      <td>0.007191</td>\n",
       "      <td>-0.116985</td>\n",
       "      <td>-0.163228</td>\n",
       "      <td>-0.115301</td>\n",
       "      <td>-0.173867</td>\n",
       "      <td>-0.151082</td>\n",
       "      <td>-0.116124</td>\n",
       "    </tr>\n",
       "    <tr>\n",
       "      <th>2018-02-02</th>\n",
       "      <td>-0.112563</td>\n",
       "      <td>-0.065296</td>\n",
       "      <td>-0.073844</td>\n",
       "      <td>-0.076727</td>\n",
       "      <td>-0.037052</td>\n",
       "      <td>-0.080773</td>\n",
       "      <td>-0.065286</td>\n",
       "      <td>-0.099226</td>\n",
       "      <td>0.003858</td>\n",
       "      <td>-0.116711</td>\n",
       "      <td>0.053420</td>\n",
       "      <td>-0.096357</td>\n",
       "      <td>0.014339</td>\n",
       "      <td>-0.042903</td>\n",
       "      <td>-0.022140</td>\n",
       "      <td>-0.110161</td>\n",
       "      <td>-0.048880</td>\n",
       "      <td>-0.051861</td>\n",
       "      <td>-0.117421</td>\n",
       "      <td>-0.107118</td>\n",
       "    </tr>\n",
       "    <tr>\n",
       "      <th>2018-02-03</th>\n",
       "      <td>0.061670</td>\n",
       "      <td>0.068304</td>\n",
       "      <td>0.123682</td>\n",
       "      <td>0.219754</td>\n",
       "      <td>0.038973</td>\n",
       "      <td>0.044371</td>\n",
       "      <td>0.113576</td>\n",
       "      <td>0.077764</td>\n",
       "      <td>0.010662</td>\n",
       "      <td>0.052670</td>\n",
       "      <td>-0.050898</td>\n",
       "      <td>0.044118</td>\n",
       "      <td>0.010090</td>\n",
       "      <td>0.013026</td>\n",
       "      <td>0.067725</td>\n",
       "      <td>0.153966</td>\n",
       "      <td>0.086035</td>\n",
       "      <td>0.100368</td>\n",
       "      <td>0.090027</td>\n",
       "      <td>0.094530</td>\n",
       "    </tr>\n",
       "  </tbody>\n",
       "</table>\n",
       "</div>"
      ],
      "text/plain": [
       "             XLM-USD   BCH-USD   ADA-USD   LTC-USD   BTC-USD   XRP-USD  \\\n",
       "Date                                                                     \n",
       "2018-01-30 -0.169078 -0.112598 -0.146487 -0.090210 -0.105352 -0.140041   \n",
       "2018-01-31  0.102418  0.011111 -0.023684 -0.011647  0.011359  0.020930   \n",
       "2018-02-01 -0.154395 -0.142943 -0.188023 -0.128888 -0.102783 -0.171939   \n",
       "2018-02-02 -0.112563 -0.065296 -0.073844 -0.076727 -0.037052 -0.080773   \n",
       "2018-02-03  0.061670  0.068304  0.123682  0.219754  0.038973  0.044371   \n",
       "\n",
       "            MANA-USD   BAT-USD  USDT-USD   ETH-USD   FIL-USD   BNT-USD  \\\n",
       "Date                                                                     \n",
       "2018-01-30 -0.157442 -0.161097 -0.008875 -0.094075 -0.014966 -0.116169   \n",
       "2018-01-31  0.126620  0.015149  0.003840  0.044047  0.015528  0.033437   \n",
       "2018-02-01 -0.202484 -0.106391 -0.003368 -0.072896 -0.047941 -0.070738   \n",
       "2018-02-02 -0.065286 -0.099226  0.003858 -0.116711  0.053420 -0.096357   \n",
       "2018-02-03  0.113576  0.077764  0.010662  0.052670 -0.050898  0.044118   \n",
       "\n",
       "             BNB-USD   ZEC-USD   XMR-USD  DOGE-USD  DASH-USD  MIOTA-USD  \\\n",
       "Date                                                                      \n",
       "2018-01-30 -0.118595 -0.145205 -0.134581 -0.135352 -0.118246  -0.138811   \n",
       "2018-01-31 -0.009395  0.037572 -0.004113 -0.002324  0.030357   0.040288   \n",
       "2018-02-01 -0.146179  0.007191 -0.116985 -0.163228 -0.115301  -0.173867   \n",
       "2018-02-02  0.014339 -0.042903 -0.022140 -0.110161 -0.048880  -0.051861   \n",
       "2018-02-03  0.010090  0.013026  0.067725  0.153966  0.086035   0.100368   \n",
       "\n",
       "             TRX-USD  THETA-USD  \n",
       "Date                             \n",
       "2018-01-30 -0.159998  -0.231703  \n",
       "2018-01-31  0.012890   0.006393  \n",
       "2018-02-01 -0.151082  -0.116124  \n",
       "2018-02-02 -0.117421  -0.107118  \n",
       "2018-02-03  0.090027   0.094530  "
      ]
     },
     "metadata": {},
     "output_type": "display_data"
    }
   ],
   "source": [
    "N = 25  # max: 120\n",
    "\n",
    "data = pd.read_csv('crypto_portfolio.csv', index_col='Date', parse_dates=['Date']).iloc[:250,:N]\n",
    "data = data.drop(columns=['CL=F', 'AAPL','^GDAXI','TSLA','^IXIC'])\n",
    "sector_assignments = pd.read_csv('example_data/sector_assignments_17_18.csv', index_col=0).values.squeeze()[:N]\n",
    "\n",
    "stock_list = data.columns\n",
    "\n",
    "print( \"number of nan's: {}\".format(data.isna().sum().sum()) )\n",
    "print( \"shape data: {}\".format(data.shape) )\n",
    "display(data.head())"
   ]
  },
  {
   "cell_type": "markdown",
   "metadata": {},
   "source": [
    "<h1>Compile Stan Code</h1>"
   ]
  },
  {
   "cell_type": "code",
   "execution_count": 6,
   "metadata": {},
   "outputs": [
    {
     "name": "stderr",
     "output_type": "stream",
     "text": [
      "INFO:pystan:COMPILING THE C++ CODE FOR MODEL anon_model_6d19870ce519fbd897c6f818f9fb27ba NOW.\n"
     ]
    }
   ],
   "source": [
    "file = \"functions/stan_gplvm_finance.stan\"\n",
    "with open(file) as f:\n",
    "    stan_code = f.read()\n",
    "\n",
    "stan_model = StanModel_cache(model_code=stan_code)"
   ]
  },
  {
   "cell_type": "markdown",
   "metadata": {},
   "source": [
    "<h1>Train Model</h1>"
   ]
  },
  {
   "cell_type": "code",
   "execution_count": 7,
   "metadata": {},
   "outputs": [],
   "source": [
    "def run_calc(model_name, Q, num):\n",
    "    #shared variables: N, D, Y, model_dict, stan_model, tries\n",
    "    import pandas as pd\n",
    "    data_dict = {'N':N, 'D':D, 'Q':Q, 'Y':Y, 'model_number':model_dict[model_name]}\n",
    "    n_error, should_break, n_error_max = 0, False, 5\n",
    "    while n_error<n_error_max:    # sometimes, bad initialization leads to RuntimeError, \n",
    "                                  # if more then 5 times: break.\n",
    "        try:\n",
    "            diagnostic, sample = vb(data_dict, stan_model, tries=tries, num=num)\n",
    "            n_error = n_error_max\n",
    "        except RuntimeError:\n",
    "            n_error += 1\n",
    "            if n_error == n_error_max: should_break = True\n",
    "            print('RuntimeError')\n",
    "\n",
    "    if should_break:\n",
    "        print('RuntimeError occurred too often.')\n",
    "        return None\n",
    "    elbo = diagnostic.loc[:, 'ELBO'].values[-1]\n",
    "    X = sample.filter(regex='^X.\\d{1,4}.\\d{1,3}$') \\\n",
    "                .mean(axis=0).values.reshape(Q, N).T\n",
    "    r2 = sample.filter(regex='^R2_hat_N$').mean(axis=0).values.squeeze()\n",
    "    lengthscale = sample.filter(regex='^kernel_lengthscale$')\\\n",
    "        .mean(axis=0).values.squeeze()\n",
    "    \n",
    "    #print('elbo:{}\\nr2:{}\\nlengthscale:{}'.format(elbo, r2, lengthscale))\n",
    "    #col_names = ['model_name', 'Q', 'ELBO', 'R2', 'inv_lengthscale']\n",
    "    #df = pd.DataFrame({num: (model_name, Q, elbo, r2, inv_lengthscale)}, index=col_names).T\n",
    "    return model_name, elbo, X"
   ]
  },
  {
   "cell_type": "markdown",
   "metadata": {},
   "source": [
    "<h2>Specify parameter</h2>\n",
    "<p>to get a better convergence, increase 'tries'. Note that $Y \\in \\mathbb{R}^{N \\times D}$ is data.T</p>"
   ]
  },
  {
   "cell_type": "code",
   "execution_count": 8,
   "metadata": {},
   "outputs": [
    {
     "name": "stdout",
     "output_type": "stream",
     "text": [
      "number inputs: 4\n"
     ]
    }
   ],
   "source": [
    "Y = data.T.values\n",
    "N, D = Y.shape\n",
    "tries = 20\n",
    "Qs = [2]\n",
    "\n",
    "model_names = ['linear', 'squared_exp', 'squared_exp_m_linear', 'matern32']\n",
    "\n",
    "inp = [(model_name, Q) for model_name in model_names for Q in Qs]\n",
    "\n",
    "randint = np.random.randint(0, 1e+5)       \n",
    "inp = [[*el, i+randint] for i, el in enumerate(inp)]\n",
    "print('number inputs: {}'.format(len(inp)))"
   ]
  },
  {
   "cell_type": "markdown",
   "metadata": {},
   "source": [
    "<hr>\n",
    "<h4>If ipyparallel is imported the runs are distributed among all CPUs\n",
    "otherwise inp-list is processed sequentially</h4>\n",
    "<p>Note: if the list of inputs is too long and you not running ipyparallel, it might take a lot of time</p>"
   ]
  },
  {
   "cell_type": "code",
   "execution_count": 9,
   "metadata": {},
   "outputs": [
    {
     "name": "stdout",
     "output_type": "stream",
     "text": [
      "CPU times: user 208 ms, sys: 43.3 ms, total: 252 ms\n",
      "Wall time: 3min 20s\n"
     ]
    }
   ],
   "source": [
    "%%time\n",
    "if run_in_parallel:\n",
    "    async_res = []\n",
    "    ids = []\n",
    "\n",
    "    rc[:].push(dict(N=N, D=D, Y=Y, stan_model=stan_model, tries=tries,), block=True)\n",
    "\n",
    "    for param in inp:\n",
    "        re = dview.apply_async(run_calc, *param)\n",
    "        async_res.append(re)\n",
    "        ids.extend(re.msg_ids)\n",
    "\n",
    "    # display progress\n",
    "    sleep(10)\n",
    "    while True:\n",
    "        print(str(len(rc.result_status(ids)['pending'])) +\"/\"\n",
    "              +str(len(rc.result_status(ids)['pending'])\n",
    "                   +len(rc.result_status(ids)['completed']))\n",
    "              +\" still running. on \" + str(len(rc.ids)) + \" cores\", end=\"\\r\")\n",
    "        sleep(10)\n",
    "        if len(rc.result_status(ids)['pending']) == 0: break\n",
    "    \n",
    "    \n",
    "    # collect results \n",
    "    results = [r.get() for r in async_res]\n",
    "    \n",
    "    \n",
    "else:\n",
    "    # to get rid of the stan-warnings comment out the warning lines (second and \n",
    "    # third last line) in the pystan source code (file: pystan/model.py - vb() )\n",
    "    # if you use a pickled model - recompile it after commenting out the lines\n",
    "    \n",
    "    results = []\n",
    "    print('starting calculations ...', flush=True)\n",
    "    for i, inp_ in enumerate(inp):\n",
    "        results.append( run_calc(*inp_) )\n",
    "        print('{}% done'.format( int(100*(i+1)/len(inp)) ), end='\\r', flush=True)\n"
   ]
  },
  {
   "cell_type": "markdown",
   "metadata": {},
   "source": [
    "<h4>Display Results</h4>\n",
    "<p>Only works for $Q=2$</p>"
   ]
  },
  {
   "cell_type": "code",
   "execution_count": 10,
   "metadata": {
    "scrolled": false
   },
   "outputs": [
    {
     "data": {
      "image/png": "[encoded data removed]",
      "text/plain": [
       "<Figure size 1296x1296 with 4 Axes>"
      ]
     },
     "metadata": {
      "needs_background": "light"
     },
     "output_type": "display_data"
    }
   ],
   "source": [
    "N_models = len(model_names)\n",
    "fig = plt.figure(figsize=(9*N_models/2,18))\n",
    "marker = ['o', 'x', '+', 'v', '^', '<', '>', 's', 'd', '.', ',']\n",
    "\n",
    "for i, (model_name, _, X) in enumerate(results):\n",
    "    df_X = pd.DataFrame(X, index=stock_list, columns=['X1', 'X2'])\n",
    "    df_X['Sector'] = sector_assignments\n",
    "\n",
    "    ax = fig.add_subplot(N_models/2,2,i+1)\n",
    "    for i, (group_name, group_df) in enumerate(df_X.groupby(by='Sector')):\n",
    "        ax.plot(group_df.loc[:, 'X1'], group_df.loc[:, 'X2'], marker[i], label=\"{}\".format(group_name))\n",
    "\n",
    "        \n",
    "    ax.set_title(model_name)\n",
    "    plt.legend(numpoints=1, framealpha=0.3, loc=2)\n",
    "        \n",
    "plt.show()"
   ]
  },
  {
   "cell_type": "code",
   "execution_count": null,
   "metadata": {},
   "outputs": [],
   "source": []
  },
  {
   "cell_type": "code",
   "execution_count": 11,
   "metadata": {},
   "outputs": [],
   "source": [
    "from sklearn.decomposition import PCA\n",
    "from sklearn.preprocessing import StandardScaler\n",
    "pca = PCA(n_components=2)\n",
    "x = data.T.values\n",
    "x = StandardScaler().fit_transform(x)\n",
    "principalComponents = pca.fit_transform(x)\n",
    "principalDf = pd.DataFrame(data = principalComponents, index=stock_list\n",
    "             , columns = ['X1', 'X2'], )"
   ]
  },
  {
   "cell_type": "code",
   "execution_count": 12,
   "metadata": {},
   "outputs": [
    {
     "data": {
      "text/html": [
       "<div>\n",
       "<style scoped>\n",
       "    .dataframe tbody tr th:only-of-type {\n",
       "        vertical-align: middle;\n",
       "    }\n",
       "\n",
       "    .dataframe tbody tr th {\n",
       "        vertical-align: top;\n",
       "    }\n",
       "\n",
       "    .dataframe thead th {\n",
       "        text-align: right;\n",
       "    }\n",
       "</style>\n",
       "<table border=\"1\" class=\"dataframe\">\n",
       "  <thead>\n",
       "    <tr style=\"text-align: right;\">\n",
       "      <th></th>\n",
       "      <th>X1</th>\n",
       "      <th>X2</th>\n",
       "      <th>Sector</th>\n",
       "    </tr>\n",
       "  </thead>\n",
       "  <tbody>\n",
       "    <tr>\n",
       "      <th>XLM-USD</th>\n",
       "      <td>-0.730119</td>\n",
       "      <td>-0.892708</td>\n",
       "      <td>Old</td>\n",
       "    </tr>\n",
       "    <tr>\n",
       "      <th>BCH-USD</th>\n",
       "      <td>-2.190937</td>\n",
       "      <td>-0.087115</td>\n",
       "      <td>Old</td>\n",
       "    </tr>\n",
       "    <tr>\n",
       "      <th>ADA-USD</th>\n",
       "      <td>-2.835538</td>\n",
       "      <td>0.077297</td>\n",
       "      <td>New</td>\n",
       "    </tr>\n",
       "    <tr>\n",
       "      <th>LTC-USD</th>\n",
       "      <td>0.037215</td>\n",
       "      <td>-1.804913</td>\n",
       "      <td>Old</td>\n",
       "    </tr>\n",
       "    <tr>\n",
       "      <th>BTC-USD</th>\n",
       "      <td>2.977010</td>\n",
       "      <td>-3.696874</td>\n",
       "      <td>Old</td>\n",
       "    </tr>\n",
       "  </tbody>\n",
       "</table>\n",
       "</div>"
      ],
      "text/plain": [
       "               X1        X2 Sector\n",
       "XLM-USD -0.730119 -0.892708    Old\n",
       "BCH-USD -2.190937 -0.087115    Old\n",
       "ADA-USD -2.835538  0.077297    New\n",
       "LTC-USD  0.037215 -1.804913    Old\n",
       "BTC-USD  2.977010 -3.696874    Old"
      ]
     },
     "metadata": {},
     "output_type": "display_data"
    }
   ],
   "source": [
    "principalDf['Sector'] = sector_assignments\n",
    "display(principalDf.head())"
   ]
  },
  {
   "cell_type": "code",
   "execution_count": 13,
   "metadata": {},
   "outputs": [
    {
     "data": {
      "image/png": "[encoded data removed]",
      "text/plain": [
       "<Figure size 576x576 with 1 Axes>"
      ]
     },
     "metadata": {
      "needs_background": "light"
     },
     "output_type": "display_data"
    }
   ],
   "source": [
    "fig = plt.figure(figsize=(8,8))\n",
    "marker = ['o', 'x', '+', 'v', '^', '<', '>', 's', 'd', '.', ',']\n",
    "ax = fig.add_subplot(1,1,1)\n",
    "for i, (group_name, group_df) in enumerate(principalDf.groupby(by='Sector')):\n",
    "    ax.plot(group_df.loc[:, 'X1'], group_df.loc[:, 'X2'], marker[i], label=\"{}\".format(group_name))\n",
    "\n",
    "plt.legend(numpoints=1, framealpha=0.3, loc=2)\n",
    "        \n",
    "plt.show()"
   ]
  },
  {
   "cell_type": "code",
   "execution_count": null,
   "metadata": {},
   "outputs": [],
   "source": []
  },
  {
   "cell_type": "code",
   "execution_count": null,
   "metadata": {},
   "outputs": [],
   "source": []
  }
 ],
 "metadata": {
  "kernelspec": {
   "display_name": "kern",
   "language": "python",
   "name": "kern"
  },
  "language_info": {
   "codemirror_mode": {
    "name": "ipython",
    "version": 3
   },
   "file_extension": ".py",
   "mimetype": "text/x-python",
   "name": "python",
   "nbconvert_exporter": "python",
   "pygments_lexer": "ipython3",
   "version": "3.7.1"
  }
 },
 "nbformat": 4,
 "nbformat_minor": 2
}

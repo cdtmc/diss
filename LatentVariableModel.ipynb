{
 "cells": [
  {
   "cell_type": "code",
   "execution_count": 55,
   "id": "introductory-footage",
   "metadata": {},
   "outputs": [],
   "source": [
    "import gpflow\n",
    "import numpy as np\n",
    "import pandas as pd\n",
    "\n",
    "import matplotlib.pyplot as plt\n",
    "import tensorflow as tf\n",
    "\n",
    "import gpflow\n",
    "from gpflow.utilities import ops, print_summary\n",
    "from gpflow.config import set_default_float, default_float, set_default_summary_fmt\n",
    "from gpflow.ci_utils import ci_niter\n",
    "\n",
    "set_default_float(np.float64)\n",
    "set_default_summary_fmt(\"notebook\")\n",
    "\n",
    "%matplotlib inline"
   ]
  },
  {
   "cell_type": "code",
   "execution_count": 93,
   "id": "aging-terrorist",
   "metadata": {},
   "outputs": [],
   "source": [
    "data = pd.read_csv('Downloads/DataTrn.txt', sep=\"\\s+\", header=None)\n",
    "labels = pd.read_csv('Downloads/DataTrnLbls.txt', sep=\"\\s+\", header=None)"
   ]
  },
  {
   "cell_type": "code",
   "execution_count": 94,
   "id": "isolated-plenty",
   "metadata": {
    "scrolled": true
   },
   "outputs": [
    {
     "data": {
      "text/html": [
       "<div>\n",
       "<style scoped>\n",
       "    .dataframe tbody tr th:only-of-type {\n",
       "        vertical-align: middle;\n",
       "    }\n",
       "\n",
       "    .dataframe tbody tr th {\n",
       "        vertical-align: top;\n",
       "    }\n",
       "\n",
       "    .dataframe thead th {\n",
       "        text-align: right;\n",
       "    }\n",
       "</style>\n",
       "<table border=\"1\" class=\"dataframe\">\n",
       "  <thead>\n",
       "    <tr style=\"text-align: right;\">\n",
       "      <th></th>\n",
       "      <th>0</th>\n",
       "      <th>1</th>\n",
       "      <th>2</th>\n",
       "      <th>3</th>\n",
       "      <th>4</th>\n",
       "      <th>5</th>\n",
       "      <th>6</th>\n",
       "      <th>7</th>\n",
       "      <th>8</th>\n",
       "      <th>9</th>\n",
       "      <th>10</th>\n",
       "      <th>11</th>\n",
       "    </tr>\n",
       "  </thead>\n",
       "  <tbody>\n",
       "    <tr>\n",
       "      <th>0</th>\n",
       "      <td>0.3315</td>\n",
       "      <td>0.2156</td>\n",
       "      <td>0.6802</td>\n",
       "      <td>0.1434</td>\n",
       "      <td>0.6825</td>\n",
       "      <td>0.2720</td>\n",
       "      <td>0.6223</td>\n",
       "      <td>0.2092</td>\n",
       "      <td>0.7961</td>\n",
       "      <td>0.1530</td>\n",
       "      <td>0.5856</td>\n",
       "      <td>0.2573</td>\n",
       "    </tr>\n",
       "    <tr>\n",
       "      <th>1</th>\n",
       "      <td>0.0939</td>\n",
       "      <td>1.0089</td>\n",
       "      <td>0.0365</td>\n",
       "      <td>0.6944</td>\n",
       "      <td>0.0908</td>\n",
       "      <td>0.4961</td>\n",
       "      <td>0.0722</td>\n",
       "      <td>0.6521</td>\n",
       "      <td>-0.0130</td>\n",
       "      <td>0.6085</td>\n",
       "      <td>0.0631</td>\n",
       "      <td>0.6597</td>\n",
       "    </tr>\n",
       "    <tr>\n",
       "      <th>2</th>\n",
       "      <td>0.5184</td>\n",
       "      <td>0.2283</td>\n",
       "      <td>0.5300</td>\n",
       "      <td>0.6884</td>\n",
       "      <td>0.7456</td>\n",
       "      <td>0.6171</td>\n",
       "      <td>0.6136</td>\n",
       "      <td>0.5928</td>\n",
       "      <td>0.7678</td>\n",
       "      <td>0.6130</td>\n",
       "      <td>0.6705</td>\n",
       "      <td>0.5202</td>\n",
       "    </tr>\n",
       "    <tr>\n",
       "      <th>3</th>\n",
       "      <td>0.4208</td>\n",
       "      <td>0.6740</td>\n",
       "      <td>0.1651</td>\n",
       "      <td>0.7592</td>\n",
       "      <td>0.1810</td>\n",
       "      <td>0.5448</td>\n",
       "      <td>0.1707</td>\n",
       "      <td>0.7554</td>\n",
       "      <td>0.1635</td>\n",
       "      <td>0.5492</td>\n",
       "      <td>0.2598</td>\n",
       "      <td>0.6455</td>\n",
       "    </tr>\n",
       "    <tr>\n",
       "      <th>4</th>\n",
       "      <td>0.3130</td>\n",
       "      <td>0.6465</td>\n",
       "      <td>0.5908</td>\n",
       "      <td>0.6924</td>\n",
       "      <td>0.7664</td>\n",
       "      <td>0.6262</td>\n",
       "      <td>1.7177</td>\n",
       "      <td>0.0150</td>\n",
       "      <td>0.0851</td>\n",
       "      <td>1.9046</td>\n",
       "      <td>-0.0165</td>\n",
       "      <td>0.0221</td>\n",
       "    </tr>\n",
       "  </tbody>\n",
       "</table>\n",
       "</div>"
      ],
      "text/plain": [
       "       0       1       2       3       4       5       6       7       8   \\\n",
       "0  0.3315  0.2156  0.6802  0.1434  0.6825  0.2720  0.6223  0.2092  0.7961   \n",
       "1  0.0939  1.0089  0.0365  0.6944  0.0908  0.4961  0.0722  0.6521 -0.0130   \n",
       "2  0.5184  0.2283  0.5300  0.6884  0.7456  0.6171  0.6136  0.5928  0.7678   \n",
       "3  0.4208  0.6740  0.1651  0.7592  0.1810  0.5448  0.1707  0.7554  0.1635   \n",
       "4  0.3130  0.6465  0.5908  0.6924  0.7664  0.6262  1.7177  0.0150  0.0851   \n",
       "\n",
       "       9       10      11  \n",
       "0  0.1530  0.5856  0.2573  \n",
       "1  0.6085  0.0631  0.6597  \n",
       "2  0.6130  0.6705  0.5202  \n",
       "3  0.5492  0.2598  0.6455  \n",
       "4  1.9046 -0.0165  0.0221  "
      ]
     },
     "execution_count": 94,
     "metadata": {},
     "output_type": "execute_result"
    }
   ],
   "source": [
    "data.head()"
   ]
  },
  {
   "cell_type": "code",
   "execution_count": 95,
   "id": "south-button",
   "metadata": {},
   "outputs": [],
   "source": [
    "labels[:][1] = labels[:][1]*2\n",
    "labels[:][2] = labels[:][2]*3\n",
    "lbs = labels[:][0] + labels[:][1] + labels[:][2]\n",
    "lbs_use = lbs[0:100]"
   ]
  },
  {
   "cell_type": "code",
   "execution_count": 96,
   "id": "critical-enhancement",
   "metadata": {},
   "outputs": [
    {
     "name": "stdout",
     "output_type": "stream",
     "text": [
      "Number of points: 1000 and Number of dimensions: 12\n",
      "Number of points: 100 and Number of dimensions: 12\n",
      "tf.Tensor(\n",
      "[1. 2. 1. 2. 3. 2. 3. 3. 3. 3. 2. 2. 1. 3. 2. 1. 3. 1. 1. 2. 2. 1. 3. 3.\n",
      " 2. 2. 2. 2. 3. 1. 3. 3. 2. 2. 2. 2. 1. 1. 2. 1. 1. 3. 3. 2. 1. 3. 2. 1.\n",
      " 3. 1. 2. 2. 2. 3. 3. 3. 1. 3. 3. 2. 1. 3. 2. 3. 1. 3. 2. 2. 3. 2. 3. 3.\n",
      " 1. 3. 2. 1. 1. 3. 2. 3. 2. 2. 1. 2. 1. 3. 1. 2. 1. 1. 3. 2. 3. 3. 2. 2.\n",
      " 3. 3. 2. 1.], shape=(100,), dtype=float64)\n"
     ]
    }
   ],
   "source": [
    "Y = tf.convert_to_tensor(data, dtype=default_float())\n",
    "print(\"Number of points: {} and Number of dimensions: {}\".format(Y.shape[0], Y.shape[1]))\n",
    "Y = Y[0:100,:]\n",
    "print(\"Number of points: {} and Number of dimensions: {}\".format(Y.shape[0], Y.shape[1]))\n",
    "labels = tf.convert_to_tensor(lbs_use)\n",
    "print(labels)"
   ]
  },
  {
   "cell_type": "code",
   "execution_count": 97,
   "id": "violent-madrid",
   "metadata": {},
   "outputs": [],
   "source": [
    "latent_dim = 2  # number of latent dimensions\n",
    "num_inducing = 20  # number of inducing pts\n",
    "num_data = Y.shape[0]  # number of data points"
   ]
  },
  {
   "cell_type": "code",
   "execution_count": 98,
   "id": "focused-consumption",
   "metadata": {},
   "outputs": [],
   "source": [
    "X_mean_init = ops.pca_reduce(Y, latent_dim)\n",
    "X_var_init = tf.ones((num_data, latent_dim), dtype=default_float())"
   ]
  },
  {
   "cell_type": "code",
   "execution_count": 99,
   "id": "olive-omega",
   "metadata": {},
   "outputs": [],
   "source": [
    "np.random.seed(1)  # for reproducibility\n",
    "inducing_variable = tf.convert_to_tensor(\n",
    "    np.random.permutation(X_mean_init.numpy())[:num_inducing], dtype=default_float()\n",
    ")"
   ]
  },
  {
   "cell_type": "code",
   "execution_count": 100,
   "id": "successful-surface",
   "metadata": {},
   "outputs": [],
   "source": [
    "lengthscales = tf.convert_to_tensor([1.0] * latent_dim, dtype=default_float())\n",
    "kernel = gpflow.kernels.RBF(lengthscales=lengthscales)"
   ]
  },
  {
   "cell_type": "code",
   "execution_count": 101,
   "id": "daily-turner",
   "metadata": {},
   "outputs": [],
   "source": [
    "gplvm = gpflow.models.BayesianGPLVM(\n",
    "    Y,\n",
    "    X_data_mean=X_mean_init,\n",
    "    X_data_var=X_var_init,\n",
    "    kernel=kernel,\n",
    "    inducing_variable=inducing_variable,\n",
    ")"
   ]
  },
  {
   "cell_type": "code",
   "execution_count": 102,
   "id": "dimensional-search",
   "metadata": {},
   "outputs": [
    {
     "data": {
      "text/plain": [
       "<tf.Variable 'UnreadVariable' shape=() dtype=float64, numpy=-4.600266525158521>"
      ]
     },
     "execution_count": 102,
     "metadata": {},
     "output_type": "execute_result"
    }
   ],
   "source": [
    "gplvm.likelihood.variance.assign(0.01)"
   ]
  },
  {
   "cell_type": "code",
   "execution_count": 103,
   "id": "least-escape",
   "metadata": {},
   "outputs": [],
   "source": [
    "opt = gpflow.optimizers.Scipy()\n",
    "maxiter = ci_niter(1000)\n",
    "_ = opt.minimize(\n",
    "    gplvm.training_loss,\n",
    "    method=\"BFGS\",\n",
    "    variables=gplvm.trainable_variables,\n",
    "    options=dict(maxiter=maxiter),\n",
    ")"
   ]
  },
  {
   "cell_type": "code",
   "execution_count": 104,
   "id": "elegant-belfast",
   "metadata": {},
   "outputs": [
    {
     "data": {
      "text/html": [
       "<table>\n",
       "<thead>\n",
       "<tr><th>name                             </th><th>class    </th><th>transform       </th><th>prior  </th><th>trainable  </th><th>shape   </th><th>dtype  </th><th>value                               </th></tr>\n",
       "</thead>\n",
       "<tbody>\n",
       "<tr><td>BayesianGPLVM.kernel.variance    </td><td>Parameter</td><td>Softplus        </td><td>       </td><td>True       </td><td>()      </td><td>float64</td><td>0.6730002184616484                  </td></tr>\n",
       "<tr><td>BayesianGPLVM.kernel.lengthscales</td><td>Parameter</td><td>Softplus        </td><td>       </td><td>True       </td><td>(2,)    </td><td>float64</td><td>[0.89408714 1.404158  ]             </td></tr>\n",
       "<tr><td>BayesianGPLVM.likelihood.variance</td><td>Parameter</td><td>Softplus + Shift</td><td>       </td><td>True       </td><td>()      </td><td>float64</td><td>0.007442818380238797                </td></tr>\n",
       "<tr><td>BayesianGPLVM.X_data_mean        </td><td>Parameter</td><td>Identity        </td><td>       </td><td>True       </td><td>(100, 2)</td><td>float64</td><td>[[-6.69411615e-01, 3.49844962e-01...</td></tr>\n",
       "<tr><td>BayesianGPLVM.X_data_var         </td><td>Parameter</td><td>Softplus        </td><td>       </td><td>True       </td><td>(100, 2)</td><td>float64</td><td>[[0.00150787, 0.00098478...         </td></tr>\n",
       "<tr><td>BayesianGPLVM.inducing_variable.Z</td><td>Parameter</td><td>Identity        </td><td>       </td><td>True       </td><td>(20, 2) </td><td>float64</td><td>[[1.77842483e+00, -1.18659986e-01...</td></tr>\n",
       "</tbody>\n",
       "</table>"
      ],
      "text/plain": [
       "<IPython.core.display.HTML object>"
      ]
     },
     "metadata": {},
     "output_type": "display_data"
    }
   ],
   "source": [
    "print_summary(gplvm)"
   ]
  },
  {
   "cell_type": "code",
   "execution_count": 105,
   "id": "sustained-revolution",
   "metadata": {},
   "outputs": [
    {
     "name": "stdout",
     "output_type": "stream",
     "text": [
      "[[-6.69411615e-01  3.49844962e-01]\n",
      " [-1.00935521e+00 -6.58322981e-01]\n",
      " [-3.67060204e-01  2.35636444e-01]\n",
      " [-1.24714025e+00 -4.56385511e-01]\n",
      " [ 1.75470392e+00  7.03513421e-02]\n",
      " [-1.42551434e+00  8.06796018e-02]\n",
      " [-6.89495100e-01 -2.13678837e+00]\n",
      " [-7.37426629e-01 -2.05597874e+00]\n",
      " [ 2.27930714e-01  1.81656634e+00]\n",
      " [-5.74631419e-01  2.40845736e+00]\n",
      " [ 5.26436069e-01  6.56308265e-01]\n",
      " [-1.36647845e+00 -4.22610417e-01]\n",
      " [-5.26977918e-01 -2.41114631e-01]\n",
      " [ 1.76050767e+00  5.89992196e-01]\n",
      " [-1.24837177e+00  3.64102363e-01]\n",
      " [-2.39516021e-01  1.00528705e-01]\n",
      " [ 1.78189907e+00  5.09661702e-02]\n",
      " [-7.62047294e-01 -8.85342481e-02]\n",
      " [-8.18817032e-01  1.14200738e-03]\n",
      " [-1.56890538e+00  1.36757768e+00]\n",
      " [ 7.26034746e-01  5.63515936e-01]\n",
      " [-1.01683882e-01  4.57926103e-01]\n",
      " [ 1.15714669e+00  1.78055656e+00]\n",
      " [-6.74097480e-01 -1.96814040e+00]\n",
      " [-7.75485499e-01 -9.25783584e-01]\n",
      " [-1.07605645e+00  2.00817500e-01]\n",
      " [-9.80391914e-01 -7.50229753e-01]\n",
      " [ 3.40441117e-01  3.62885024e-01]\n",
      " [ 1.66095199e+00 -1.59152965e+00]\n",
      " [-1.77014577e-02  5.02161983e-01]\n",
      " [ 1.79566016e+00  2.66044158e-01]\n",
      " [-5.99738133e-01  2.37222464e+00]\n",
      " [ 3.08584581e-01  3.93942946e-01]\n",
      " [-1.00024555e+00 -8.17295113e-01]\n",
      " [ 5.74559344e-01  3.04558219e-01]\n",
      " [ 8.91659878e-01 -4.28895068e-01]\n",
      " [-6.77952232e-01  2.40783359e-01]\n",
      " [-3.72425514e-01  9.56251830e-02]\n",
      " [-1.13242117e+00 -6.21427178e-01]\n",
      " [-8.00280604e-01  2.80499671e-01]\n",
      " [-5.46210390e-01 -3.39232563e-01]\n",
      " [ 1.76308829e+00  1.23457361e-01]\n",
      " [-5.48611976e-01  2.25309838e+00]\n",
      " [ 6.89538586e-01  8.74132335e-02]\n",
      " [-2.00210898e-01  3.70009509e-01]\n",
      " [ 1.82426604e+00 -3.04825609e-01]\n",
      " [ 5.33542844e-01  4.95037192e-01]\n",
      " [-5.83018162e-01 -2.20578879e-03]\n",
      " [ 2.90335897e-01 -1.87930056e+00]\n",
      " [-5.80060935e-01  3.36869144e-01]\n",
      " [-1.35223933e+00 -3.18087502e-01]\n",
      " [ 6.03617182e-01  3.34586786e-02]\n",
      " [ 5.33216163e-01  6.17441357e-01]\n",
      " [ 1.75656196e+00  1.92146993e-01]\n",
      " [-7.18954911e-01 -2.05802002e+00]\n",
      " [ 7.48225344e-01 -1.27653185e+00]\n",
      " [-6.73255970e-01  2.46540861e-01]\n",
      " [-5.62293073e-01  2.29315633e+00]\n",
      " [ 2.24532282e-01 -1.80259427e+00]\n",
      " [ 6.27132276e-01  9.52705761e-02]\n",
      " [-4.13257372e-01  3.14636346e-01]\n",
      " [-7.73775904e-01 -2.12327851e+00]\n",
      " [-1.16591959e+00 -4.67928518e-01]\n",
      " [ 1.10107475e+00  1.52523747e+00]\n",
      " [-6.18448232e-01  8.47718188e-01]\n",
      " [ 1.76135800e+00  2.11147082e-01]\n",
      " [-1.22255062e+00 -4.64510008e-01]\n",
      " [-1.10392943e+00 -4.63779643e-01]\n",
      " [ 1.75589136e+00  4.27973334e-01]\n",
      " [-1.15813186e+00  5.07462720e-01]\n",
      " [ 1.65739502e+00 -1.36743783e+00]\n",
      " [ 1.71763873e-01 -1.77643277e+00]\n",
      " [-4.52177692e-01  1.15603311e-01]\n",
      " [ 1.60429938e-01 -1.73202762e+00]\n",
      " [-1.04138017e+00  7.23286190e-01]\n",
      " [-3.77762722e-01  3.58283195e-01]\n",
      " [-2.01203999e-01  1.88944948e-01]\n",
      " [ 1.77333154e+00  1.52032753e-01]\n",
      " [ 6.52028619e-01 -3.20807518e-01]\n",
      " [ 1.77419863e+00  1.38148737e-02]\n",
      " [ 8.70521151e-01  5.40423710e-02]\n",
      " [ 1.51428545e-01 -5.39860571e-01]\n",
      " [-8.90090545e-02  2.65455922e-01]\n",
      " [ 8.07228837e-01 -7.13662275e-02]\n",
      " [-4.10351592e-01 -5.11712404e-01]\n",
      " [ 1.69244390e+00 -1.64950135e+00]\n",
      " [-3.91805812e-01  1.81103745e-01]\n",
      " [-1.24372280e+00 -2.47371186e-01]\n",
      " [-4.39405833e-01 -1.72595434e-01]\n",
      " [-6.25748072e-01 -3.05068417e-01]\n",
      " [ 1.77180946e+00  2.08837392e-01]\n",
      " [-1.10737092e+00  7.46695103e-01]\n",
      " [ 1.78775249e+00  8.32224212e-03]\n",
      " [ 2.65412903e-01  1.83756935e+00]\n",
      " [-1.64554355e+00  1.21386777e+00]\n",
      " [ 4.47429590e-01  1.72025071e-01]\n",
      " [-7.27610144e-01 -2.07883514e+00]\n",
      " [ 2.34981357e-01  1.81241598e+00]\n",
      " [ 7.44644208e-01  4.44945772e-02]\n",
      " [-2.48107060e-01  4.47784424e-01]]\n"
     ]
    },
    {
     "data": {
      "image/png": "[encoded data removed]",
      "text/plain": [
       "<Figure size 720x432 with 2 Axes>"
      ]
     },
     "metadata": {
      "needs_background": "light"
     },
     "output_type": "display_data"
    }
   ],
   "source": [
    "X_pca = ops.pca_reduce(Y, latent_dim).numpy()\n",
    "gplvm_X_mean = gplvm.X_data_mean.numpy()\n",
    "\n",
    "print(gplvm_X_mean)\n",
    "\n",
    "f, ax = plt.subplots(1, 2, figsize=(10, 6))\n",
    "\n",
    "for i in np.unique(labels):\n",
    "    ax[0].scatter(X_pca[labels == i,0], X_pca[labels == i,1], label=i)\n",
    "    ax[1].scatter(gplvm_X_mean[labels == i, 0], gplvm_X_mean[labels == i, 1], label=i)\n",
    "    ax[0].set_title(\"PCA\")\n",
    "    ax[1].set_title(\"Bayesian GPLVM\")"
   ]
  },
  {
   "cell_type": "code",
   "execution_count": 106,
   "id": "recovered-habitat",
   "metadata": {},
   "outputs": [
    {
     "name": "stdout",
     "output_type": "stream",
     "text": [
      "[1. 2. 3.]\n"
     ]
    },
    {
     "data": {
      "text/plain": [
       "100"
      ]
     },
     "execution_count": 106,
     "metadata": {},
     "output_type": "execute_result"
    }
   ],
   "source": [
    "print(np.unique(labels))\n",
    "len(X_pca)"
   ]
  }
 ],
 "metadata": {
  "kernelspec": {
   "display_name": "Python 3",
   "language": "python",
   "name": "python3"
  },
  "language_info": {
   "codemirror_mode": {
    "name": "ipython",
    "version": 3
   },
   "file_extension": ".py",
   "mimetype": "text/x-python",
   "name": "python",
   "nbconvert_exporter": "python",
   "pygments_lexer": "ipython3",
   "version": "3.8.5"
  }
 },
 "nbformat": 4,
 "nbformat_minor": 5
}

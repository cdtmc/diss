{
 "cells": [
  {
   "cell_type": "code",
   "execution_count": 2,
   "id": "sharing-evidence",
   "metadata": {},
   "outputs": [],
   "source": [
    "import numpy as np\n",
    "%matplotlib inline\n",
    "from matplotlib import pyplot as plt\n",
    "import gpflow as gp # import GPy package\n",
    "np.random.seed(12345)"
   ]
  },
  {
   "cell_type": "code",
   "execution_count": 5,
   "id": "gothic-economics",
   "metadata": {},
   "outputs": [],
   "source": [
    "N = 100\n",
    "k1 = gp.kernels.RBF(variance=1, lengthscales=1./np.random.dirichlet(np.r_[10,10,10,0.1,0.1]))\n",
    "k2 = gp.kernels.RBF(variance=1, lengthscales=1./np.random.dirichlet(np.r_[10,0.1,10,0.1,10]))\n",
    "k3 = gp.kernels.RBF(variance=1, lengthscales=1./np.random.dirichlet(np.r_[0.1,0.1,10,10,10]))\n",
    "X = np.random.normal(0, 1, (N, 5))\n",
    "A = np.random.multivariate_normal(np.zeros(N), k1.K(X), 10).T\n",
    "B = np.random.multivariate_normal(np.zeros(N), k2.K(X), 10).T\n",
    "C = np.random.multivariate_normal(np.zeros(N), k3.K(X), 10).T\n",
    "\n",
    "Y = np.vstack((A,B,C))\n",
    "labels = np.hstack((np.zeros(A.shape[0]), np.ones(B.shape[0]), np.ones(C.shape[0])*2))"
   ]
  },
  {
   "cell_type": "code",
   "execution_count": 13,
   "id": "dangerous-eight",
   "metadata": {},
   "outputs": [
    {
     "data": {
      "text/html": [
       "&lt;gpflow.models.gplvm.GPLVM object at 0x7f2d006b0cd0&gt;\n",
       "<table>\n",
       "<thead>\n",
       "<tr><th>name                     </th><th>class    </th><th>transform       </th><th>prior  </th><th>trainable  </th><th>shape   </th><th>dtype  </th><th>value                      </th></tr>\n",
       "</thead>\n",
       "<tbody>\n",
       "<tr><td>GPLVM.kernel.variance    </td><td>Parameter</td><td>Softplus        </td><td>       </td><td>True       </td><td>()      </td><td>float64</td><td>1.0                        </td></tr>\n",
       "<tr><td>GPLVM.kernel.lengthscales</td><td>Parameter</td><td>Softplus        </td><td>       </td><td>True       </td><td>(2,)    </td><td>float64</td><td>[1. 1.]                    </td></tr>\n",
       "<tr><td>GPLVM.likelihood.variance</td><td>Parameter</td><td>Softplus + Shift</td><td>       </td><td>True       </td><td>()      </td><td>float64</td><td>1.0                        </td></tr>\n",
       "<tr><td>GPLVM.data[0]            </td><td>Parameter</td><td>Identity        </td><td>       </td><td>True       </td><td>(300, 2)</td><td>float64</td><td>[[0.77241107, 0.46567569...</td></tr>\n",
       "</tbody>\n",
       "</table>"
      ],
      "text/plain": [
       "<gpflow.models.gplvm.GPLVM object at 0x7f2d006b0cd0>\n",
       "╒═══════════════════════════╤═══════════╤══════════════════╤═════════╤═════════════╤══════════╤═════════╤═════════════════════════════╕\n",
       "│ name                      │ class     │ transform        │ prior   │ trainable   │ shape    │ dtype   │ value                       │\n",
       "╞═══════════════════════════╪═══════════╪══════════════════╪═════════╪═════════════╪══════════╪═════════╪═════════════════════════════╡\n",
       "│ GPLVM.kernel.variance     │ Parameter │ Softplus         │         │ True        │ ()       │ float64 │ 1.0                         │\n",
       "├───────────────────────────┼───────────┼──────────────────┼─────────┼─────────────┼──────────┼─────────┼─────────────────────────────┤\n",
       "│ GPLVM.kernel.lengthscales │ Parameter │ Softplus         │         │ True        │ (2,)     │ float64 │ [1. 1.]                     │\n",
       "├───────────────────────────┼───────────┼──────────────────┼─────────┼─────────────┼──────────┼─────────┼─────────────────────────────┤\n",
       "│ GPLVM.likelihood.variance │ Parameter │ Softplus + Shift │         │ True        │ ()       │ float64 │ 1.0                         │\n",
       "├───────────────────────────┼───────────┼──────────────────┼─────────┼─────────────┼──────────┼─────────┼─────────────────────────────┤\n",
       "│ GPLVM.data[0]             │ Parameter │ Identity         │         │ True        │ (300, 2) │ float64 │ [[0.77241107, 0.46567569... │\n",
       "╘═══════════════════════════╧═══════════╧══════════════════╧═════════╧═════════════╧══════════╧═════════╧═════════════════════════════╛"
      ]
     },
     "execution_count": 13,
     "metadata": {},
     "output_type": "execute_result"
    }
   ],
   "source": [
    "Q = 2\n",
    "m_gplvm = gp.models.GPLVM(Y, Q, kernel=gp.kernels.RBF(lengthscales=[1.0, 1.0]))\n",
    "m_gplvm.kernel.variance.assign = 1\n",
    "m_gplvm.likelihood.variance.assign = 1.\n",
    "m_gplvm"
   ]
  }
 ],
 "metadata": {
  "kernelspec": {
   "display_name": "Python 3",
   "language": "python",
   "name": "python3"
  },
  "language_info": {
   "codemirror_mode": {
    "name": "ipython",
    "version": 3
   },
   "file_extension": ".py",
   "mimetype": "text/x-python",
   "name": "python",
   "nbconvert_exporter": "python",
   "pygments_lexer": "ipython3",
   "version": "3.8.5"
  }
 },
 "nbformat": 4,
 "nbformat_minor": 5
}

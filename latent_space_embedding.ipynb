{
 "cells": [
  {
   "cell_type": "code",
   "execution_count": 1,
   "metadata": {},
   "outputs": [],
   "source": [
    "import warnings; warnings.simplefilter('ignore')"
   ]
  },
  {
   "cell_type": "code",
   "execution_count": 1,
   "metadata": {},
   "outputs": [
    {
     "ename": "ModuleNotFoundError",
     "evalue": "No module named 'pystan'",
     "output_type": "error",
     "traceback": [
      "\u001b[0;31m---------------------------------------------------------------------------\u001b[0m",
      "\u001b[0;31mModuleNotFoundError\u001b[0m                       Traceback (most recent call last)",
      "\u001b[0;32m<ipython-input-1-13ab22c37d12>\u001b[0m in \u001b[0;36m<module>\u001b[0;34m\u001b[0m\n\u001b[1;32m      2\u001b[0m \u001b[0;32mimport\u001b[0m \u001b[0mnumpy\u001b[0m \u001b[0;32mas\u001b[0m \u001b[0mnp\u001b[0m\u001b[0;34m\u001b[0m\u001b[0;34m\u001b[0m\u001b[0m\n\u001b[1;32m      3\u001b[0m \u001b[0;32mimport\u001b[0m \u001b[0mpandas\u001b[0m \u001b[0;32mas\u001b[0m \u001b[0mpd\u001b[0m\u001b[0;34m\u001b[0m\u001b[0;34m\u001b[0m\u001b[0m\n\u001b[0;32m----> 4\u001b[0;31m \u001b[0;32mimport\u001b[0m \u001b[0mpystan\u001b[0m\u001b[0;34m\u001b[0m\u001b[0;34m\u001b[0m\u001b[0m\n\u001b[0m\u001b[1;32m      5\u001b[0m \u001b[0;32mfrom\u001b[0m \u001b[0mdatetime\u001b[0m \u001b[0;32mimport\u001b[0m \u001b[0mdatetime\u001b[0m\u001b[0;34m,\u001b[0m \u001b[0mtimedelta\u001b[0m\u001b[0;34m\u001b[0m\u001b[0;34m\u001b[0m\u001b[0m\n\u001b[1;32m      6\u001b[0m \u001b[0;34m\u001b[0m\u001b[0m\n",
      "\u001b[0;31mModuleNotFoundError\u001b[0m: No module named 'pystan'"
     ]
    }
   ],
   "source": [
    "import matplotlib.pyplot as plt \n",
    "import numpy as np\n",
    "import pandas as pd\n",
    "import pystan\n",
    "from datetime import datetime, timedelta\n",
    "\n",
    "from time import sleep\n",
    "import os\n",
    "from IPython.display import display\n",
    "\n",
    "%matplotlib inline "
   ]
  },
  {
   "cell_type": "code",
   "execution_count": 3,
   "metadata": {},
   "outputs": [],
   "source": [
    "%load_ext autoreload\n",
    "%autoreload 2\n",
    "\n",
    "from functions.helper_functions import (StanModel_cache,\n",
    "                                        vb, model_dict,\n",
    "                                        get_sector_assignment_dict,)\n",
    "\n",
    "run_in_parallel = False"
   ]
  },
  {
   "cell_type": "markdown",
   "metadata": {},
   "source": [
    "<h3>Run the following cell, if you want to run different models in parallel, otherwise skip the cell.</h3>\n",
    "<p>Before running the cell, start clusters. E.g. run 'ipcluster start -n 4'.</p>\n",
    "<p>More information on: https://ipyparallel.readthedocs.io/en/latest/intro.html#getting-started </p>"
   ]
  },
  {
   "cell_type": "code",
   "execution_count": 4,
   "metadata": {},
   "outputs": [
    {
     "name": "stdout",
     "output_type": "stream",
     "text": [
      "importing numpy on engine(s)\n",
      "importing pandas on engine(s)\n",
      "importing pystan on engine(s)\n",
      "importing vb,model_dict from functions.helper_functions on engine(s)\n",
      "[0, 1, 2, 3, 4, 5, 6, 7]\n"
     ]
    }
   ],
   "source": [
    "import ipyparallel as ipp\n",
    "\n",
    "rc = ipp.Client()\n",
    "dview = rc.load_balanced_view()\n",
    "\n",
    "with rc[:].sync_imports():\n",
    "    import numpy as np\n",
    "    import pandas as pd\n",
    "    import pystan\n",
    "    \n",
    "    from functions.helper_functions import (vb, model_dict)\n",
    "print(rc.ids)\n",
    "\n",
    "run_in_parallel = True"
   ]
  },
  {
   "cell_type": "markdown",
   "metadata": {},
   "source": [
    "<h1>Load Data</h1>"
   ]
  },
  {
   "cell_type": "code",
   "execution_count": 5,
   "metadata": {},
   "outputs": [
    {
     "name": "stdout",
     "output_type": "stream",
     "text": [
      "number of nan's: 0\n",
      "shape data: (250, 60)\n"
     ]
    },
    {
     "data": {
      "text/html": [
       "<div>\n",
       "<style scoped>\n",
       "    .dataframe tbody tr th:only-of-type {\n",
       "        vertical-align: middle;\n",
       "    }\n",
       "\n",
       "    .dataframe tbody tr th {\n",
       "        vertical-align: top;\n",
       "    }\n",
       "\n",
       "    .dataframe thead th {\n",
       "        text-align: right;\n",
       "    }\n",
       "</style>\n",
       "<table border=\"1\" class=\"dataframe\">\n",
       "  <thead>\n",
       "    <tr style=\"text-align: right;\">\n",
       "      <th></th>\n",
       "      <th>SNPS</th>\n",
       "      <th>HOG</th>\n",
       "      <th>TGT</th>\n",
       "      <th>JBHT</th>\n",
       "      <th>C</th>\n",
       "      <th>GPN</th>\n",
       "      <th>DOV</th>\n",
       "      <th>ITW</th>\n",
       "      <th>CL</th>\n",
       "      <th>PLD</th>\n",
       "      <th>...</th>\n",
       "      <th>PPG</th>\n",
       "      <th>DLPH</th>\n",
       "      <th>CME</th>\n",
       "      <th>CBOE</th>\n",
       "      <th>PNC</th>\n",
       "      <th>SYY</th>\n",
       "      <th>CINF</th>\n",
       "      <th>FCX</th>\n",
       "      <th>DXC</th>\n",
       "      <th>CBS</th>\n",
       "    </tr>\n",
       "    <tr>\n",
       "      <th>Date</th>\n",
       "      <th></th>\n",
       "      <th></th>\n",
       "      <th></th>\n",
       "      <th></th>\n",
       "      <th></th>\n",
       "      <th></th>\n",
       "      <th></th>\n",
       "      <th></th>\n",
       "      <th></th>\n",
       "      <th></th>\n",
       "      <th></th>\n",
       "      <th></th>\n",
       "      <th></th>\n",
       "      <th></th>\n",
       "      <th></th>\n",
       "      <th></th>\n",
       "      <th></th>\n",
       "      <th></th>\n",
       "      <th></th>\n",
       "      <th></th>\n",
       "      <th></th>\n",
       "    </tr>\n",
       "  </thead>\n",
       "  <tbody>\n",
       "    <tr>\n",
       "      <th>2017-01-04</th>\n",
       "      <td>0.003369</td>\n",
       "      <td>0.011028</td>\n",
       "      <td>0.014571</td>\n",
       "      <td>0.010850</td>\n",
       "      <td>0.013533</td>\n",
       "      <td>0.037305</td>\n",
       "      <td>0.004711</td>\n",
       "      <td>0.003836</td>\n",
       "      <td>0.010986</td>\n",
       "      <td>0.017803</td>\n",
       "      <td>...</td>\n",
       "      <td>0.021207</td>\n",
       "      <td>0.037015</td>\n",
       "      <td>0.009790</td>\n",
       "      <td>0.039310</td>\n",
       "      <td>0.008477</td>\n",
       "      <td>0.009146</td>\n",
       "      <td>0.003694</td>\n",
       "      <td>0.076197</td>\n",
       "      <td>0.038045</td>\n",
       "      <td>0.020966</td>\n",
       "    </tr>\n",
       "    <tr>\n",
       "      <th>2017-01-05</th>\n",
       "      <td>0.003693</td>\n",
       "      <td>0.001007</td>\n",
       "      <td>-0.016935</td>\n",
       "      <td>-0.006440</td>\n",
       "      <td>-0.017424</td>\n",
       "      <td>0.003966</td>\n",
       "      <td>-0.003256</td>\n",
       "      <td>-0.011220</td>\n",
       "      <td>0.008904</td>\n",
       "      <td>0.000372</td>\n",
       "      <td>...</td>\n",
       "      <td>-0.016963</td>\n",
       "      <td>-0.006140</td>\n",
       "      <td>0.003463</td>\n",
       "      <td>-0.010411</td>\n",
       "      <td>-0.013365</td>\n",
       "      <td>-0.003263</td>\n",
       "      <td>-0.004075</td>\n",
       "      <td>-0.014160</td>\n",
       "      <td>-0.002522</td>\n",
       "      <td>-0.003955</td>\n",
       "    </tr>\n",
       "    <tr>\n",
       "      <th>2017-01-06</th>\n",
       "      <td>0.003512</td>\n",
       "      <td>-0.009221</td>\n",
       "      <td>-0.015435</td>\n",
       "      <td>0.005144</td>\n",
       "      <td>0.003480</td>\n",
       "      <td>0.014029</td>\n",
       "      <td>0.015550</td>\n",
       "      <td>0.010443</td>\n",
       "      <td>0.007629</td>\n",
       "      <td>0.006510</td>\n",
       "      <td>...</td>\n",
       "      <td>-0.000314</td>\n",
       "      <td>-0.006321</td>\n",
       "      <td>0.010956</td>\n",
       "      <td>0.005460</td>\n",
       "      <td>0.014227</td>\n",
       "      <td>0.007092</td>\n",
       "      <td>0.000264</td>\n",
       "      <td>0.019152</td>\n",
       "      <td>0.010113</td>\n",
       "      <td>-0.018174</td>\n",
       "    </tr>\n",
       "    <tr>\n",
       "      <th>2017-01-09</th>\n",
       "      <td>0.001333</td>\n",
       "      <td>-0.016074</td>\n",
       "      <td>-0.000140</td>\n",
       "      <td>-0.008394</td>\n",
       "      <td>-0.005450</td>\n",
       "      <td>0.071726</td>\n",
       "      <td>-0.012867</td>\n",
       "      <td>-0.004883</td>\n",
       "      <td>-0.013955</td>\n",
       "      <td>-0.007577</td>\n",
       "      <td>...</td>\n",
       "      <td>0.007951</td>\n",
       "      <td>-0.016047</td>\n",
       "      <td>-0.007339</td>\n",
       "      <td>-0.012848</td>\n",
       "      <td>-0.007140</td>\n",
       "      <td>0.005417</td>\n",
       "      <td>-0.016891</td>\n",
       "      <td>-0.014765</td>\n",
       "      <td>-0.002002</td>\n",
       "      <td>-0.012599</td>\n",
       "    </tr>\n",
       "    <tr>\n",
       "      <th>2017-01-10</th>\n",
       "      <td>0.010153</td>\n",
       "      <td>0.006019</td>\n",
       "      <td>0.000000</td>\n",
       "      <td>0.008775</td>\n",
       "      <td>0.000166</td>\n",
       "      <td>-0.023938</td>\n",
       "      <td>0.003910</td>\n",
       "      <td>0.002372</td>\n",
       "      <td>-0.015507</td>\n",
       "      <td>-0.022905</td>\n",
       "      <td>...</td>\n",
       "      <td>0.000415</td>\n",
       "      <td>0.035410</td>\n",
       "      <td>-0.000258</td>\n",
       "      <td>-0.011405</td>\n",
       "      <td>0.003976</td>\n",
       "      <td>-0.006286</td>\n",
       "      <td>0.000268</td>\n",
       "      <td>0.059264</td>\n",
       "      <td>0.012372</td>\n",
       "      <td>-0.012445</td>\n",
       "    </tr>\n",
       "  </tbody>\n",
       "</table>\n",
       "<p>5 rows × 60 columns</p>\n",
       "</div>"
      ],
      "text/plain": [
       "                SNPS       HOG       TGT      JBHT         C       GPN  \\\n",
       "Date                                                                     \n",
       "2017-01-04  0.003369  0.011028  0.014571  0.010850  0.013533  0.037305   \n",
       "2017-01-05  0.003693  0.001007 -0.016935 -0.006440 -0.017424  0.003966   \n",
       "2017-01-06  0.003512 -0.009221 -0.015435  0.005144  0.003480  0.014029   \n",
       "2017-01-09  0.001333 -0.016074 -0.000140 -0.008394 -0.005450  0.071726   \n",
       "2017-01-10  0.010153  0.006019  0.000000  0.008775  0.000166 -0.023938   \n",
       "\n",
       "                 DOV       ITW        CL       PLD    ...          PPG  \\\n",
       "Date                                                  ...                \n",
       "2017-01-04  0.004711  0.003836  0.010986  0.017803    ...     0.021207   \n",
       "2017-01-05 -0.003256 -0.011220  0.008904  0.000372    ...    -0.016963   \n",
       "2017-01-06  0.015550  0.010443  0.007629  0.006510    ...    -0.000314   \n",
       "2017-01-09 -0.012867 -0.004883 -0.013955 -0.007577    ...     0.007951   \n",
       "2017-01-10  0.003910  0.002372 -0.015507 -0.022905    ...     0.000415   \n",
       "\n",
       "                DLPH       CME      CBOE       PNC       SYY      CINF  \\\n",
       "Date                                                                     \n",
       "2017-01-04  0.037015  0.009790  0.039310  0.008477  0.009146  0.003694   \n",
       "2017-01-05 -0.006140  0.003463 -0.010411 -0.013365 -0.003263 -0.004075   \n",
       "2017-01-06 -0.006321  0.010956  0.005460  0.014227  0.007092  0.000264   \n",
       "2017-01-09 -0.016047 -0.007339 -0.012848 -0.007140  0.005417 -0.016891   \n",
       "2017-01-10  0.035410 -0.000258 -0.011405  0.003976 -0.006286  0.000268   \n",
       "\n",
       "                 FCX       DXC       CBS  \n",
       "Date                                      \n",
       "2017-01-04  0.076197  0.038045  0.020966  \n",
       "2017-01-05 -0.014160 -0.002522 -0.003955  \n",
       "2017-01-06  0.019152  0.010113 -0.018174  \n",
       "2017-01-09 -0.014765 -0.002002 -0.012599  \n",
       "2017-01-10  0.059264  0.012372 -0.012445  \n",
       "\n",
       "[5 rows x 60 columns]"
      ]
     },
     "metadata": {},
     "output_type": "display_data"
    }
   ],
   "source": [
    "N = 60  # max: 120\n",
    "\n",
    "data = pd.read_csv('example_data/stock_data_17_18.csv', index_col='Date', parse_dates=['Date']).iloc[:,:N]\n",
    "sector_assignments = pd.read_csv('example_data/sector_assignments_17_18.csv', index_col=0).values.squeeze()[:N]\n",
    "\n",
    "stock_list = data.columns\n",
    "\n",
    "print( \"number of nan's: {}\".format(data.isna().sum().sum()) )\n",
    "print( \"shape data: {}\".format(data.shape) )\n",
    "display(data.head())"
   ]
  },
  {
   "cell_type": "markdown",
   "metadata": {},
   "source": [
    "<h1>Compile Stan Code</h1>"
   ]
  },
  {
   "cell_type": "code",
   "execution_count": 6,
   "metadata": {},
   "outputs": [
    {
     "name": "stdout",
     "output_type": "stream",
     "text": [
      "Using cached StanModel\n"
     ]
    }
   ],
   "source": [
    "file = \"functions/stan_gplvm_finance.stan\"\n",
    "with open(file) as f:\n",
    "    stan_code = f.read()\n",
    "\n",
    "stan_model = StanModel_cache(model_code=stan_code)"
   ]
  },
  {
   "cell_type": "markdown",
   "metadata": {},
   "source": [
    "<h1>Train Model</h1>"
   ]
  },
  {
   "cell_type": "code",
   "execution_count": 7,
   "metadata": {},
   "outputs": [],
   "source": [
    "def run_calc(model_name, Q, num):\n",
    "    #shared variables: N, D, Y, model_dict, stan_model, tries\n",
    "    import pandas as pd\n",
    "    data_dict = {'N':N, 'D':D, 'Q':Q, 'Y':Y, 'model_number':model_dict[model_name]}\n",
    "    n_error, should_break, n_error_max = 0, False, 5\n",
    "    while n_error<n_error_max:    # sometimes, bad initialization leads to RuntimeError, \n",
    "                                  # if more then 5 times: break.\n",
    "        try:\n",
    "            diagnostic, sample = vb(data_dict, stan_model, tries=tries, num=num)\n",
    "            n_error = n_error_max\n",
    "        except RuntimeError:\n",
    "            n_error += 1\n",
    "            if n_error == n_error_max: should_break = True\n",
    "            print('RuntimeError')\n",
    "\n",
    "    if should_break:\n",
    "        print('RuntimeError occurred too often.')\n",
    "        return None\n",
    "    elbo = diagnostic.loc[:, 'ELBO'].values[-1]\n",
    "    X = sample.filter(regex='^X.\\d{1,4}.\\d{1,3}$') \\\n",
    "                .mean(axis=0).values.reshape(Q, N).T\n",
    "    r2 = sample.filter(regex='^R2_hat_N$').mean(axis=0).values.squeeze()\n",
    "    lengthscale = sample.filter(regex='^kernel_lengthscale$')\\\n",
    "        .mean(axis=0).values.squeeze()\n",
    "    \n",
    "    #print('elbo:{}\\nr2:{}\\nlengthscale:{}'.format(elbo, r2, lengthscale))\n",
    "    #col_names = ['model_name', 'Q', 'ELBO', 'R2', 'inv_lengthscale']\n",
    "    #df = pd.DataFrame({num: (model_name, Q, elbo, r2, inv_lengthscale)}, index=col_names).T\n",
    "    return model_name, elbo, X"
   ]
  },
  {
   "cell_type": "markdown",
   "metadata": {},
   "source": [
    "<h2>Specify parameter</h2>\n",
    "<p>to get a better convergence, increase 'tries'. Note that $Y \\in \\mathbb{R}^{N \\times D}$ is data.T</p>"
   ]
  },
  {
   "cell_type": "code",
   "execution_count": 8,
   "metadata": {},
   "outputs": [
    {
     "name": "stdout",
     "output_type": "stream",
     "text": [
      "number inputs: 4\n"
     ]
    }
   ],
   "source": [
    "Y = data.T.values\n",
    "N, D = Y.shape\n",
    "tries = 20\n",
    "Qs = [2,]\n",
    "\n",
    "model_names = ['linear', 'squared_exp', 'squared_exp_m_linear', 'matern32']\n",
    "\n",
    "inp = [(model_name, Q) for model_name in model_names for Q in Qs]\n",
    "\n",
    "randint = np.random.randint(0, 1e+10)       \n",
    "inp = [[*el, i+randint] for i, el in enumerate(inp)]\n",
    "print('number inputs: {}'.format(len(inp)))"
   ]
  },
  {
   "cell_type": "markdown",
   "metadata": {},
   "source": [
    "<hr>\n",
    "<h4>If ipyparallel is imported the runs are distributed among all CPUs\n",
    "otherwise inp-list is processed sequentially</h4>\n",
    "<p>Note: if the list of inputs is too long and you not running ipyparallel, it might take a lot of time</p>"
   ]
  },
  {
   "cell_type": "code",
   "execution_count": 9,
   "metadata": {},
   "outputs": [
    {
     "name": "stdout",
     "output_type": "stream",
     "text": [
      "CPU times: user 1.66 s, sys: 272 ms, total: 1.93 s\n",
      "Wall time: 26min 34s\n"
     ]
    }
   ],
   "source": [
    "%%time\n",
    "if run_in_parallel:\n",
    "    async_res = []\n",
    "    ids = []\n",
    "\n",
    "    rc[:].push(dict(N=N, D=D, Y=Y, stan_model=stan_model, tries=tries,), block=True)\n",
    "\n",
    "    for param in inp:\n",
    "        re = dview.apply_async(run_calc, *param)\n",
    "        async_res.append(re)\n",
    "        ids.extend(re.msg_ids)\n",
    "\n",
    "    # display progress\n",
    "    sleep(10)\n",
    "    while True:\n",
    "        print(str(len(rc.result_status(ids)['pending'])) +\"/\"\n",
    "              +str(len(rc.result_status(ids)['pending'])\n",
    "                   +len(rc.result_status(ids)['completed']))\n",
    "              +\" still running. on \" + str(len(rc.ids)) + \" cores\", end=\"\\r\")\n",
    "        sleep(10)\n",
    "        if len(rc.result_status(ids)['pending']) == 0: break\n",
    "    \n",
    "    \n",
    "    # collect results \n",
    "    results = [r.get() for r in async_res]\n",
    "    \n",
    "    \n",
    "else:\n",
    "    # to get rid of the stan-warnings comment out the warning lines (second and \n",
    "    # third last line) in the pystan source code (file: pystan/model.py - vb() )\n",
    "    # if you use a pickled model - recompile it after commenting out the lines\n",
    "    \n",
    "    results = []\n",
    "    print('starting calculations ...', flush=True)\n",
    "    for i, inp_ in enumerate(inp):\n",
    "        results.append( run_calc(*inp_) )\n",
    "        print('{}% done'.format( int(100*(i+1)/len(inp)) ), end='\\r', flush=True)\n"
   ]
  },
  {
   "cell_type": "markdown",
   "metadata": {},
   "source": [
    "<h4>Display Results</h4>\n",
    "<p>Only works for $Q=2$</p>"
   ]
  },
  {
   "cell_type": "code",
   "execution_count": 10,
   "metadata": {
    "scrolled": false
   },
   "outputs": [
    {
     "data": {
      "image/png": "[encoded data removed]",
      "text/plain": [
       "<Figure size 1296x1296 with 4 Axes>"
      ]
     },
     "metadata": {
      "needs_background": "light"
     },
     "output_type": "display_data"
    }
   ],
   "source": [
    "N_models = len(model_names)\n",
    "fig = plt.figure(figsize=(9*N_models/2,18))\n",
    "marker = ['o', 'x', '+', 'v', '^', '<', '>', 's', 'd', '.', ',']\n",
    "\n",
    "for i, (model_name, _, X) in enumerate(results):\n",
    "    df_X = pd.DataFrame(X, index=stock_list, columns=['X1', 'X2'])\n",
    "    df_X['Sector'] = sector_assignments\n",
    "\n",
    "    ax = fig.add_subplot(N_models/2,2,i+1)\n",
    "    for i, (group_name, group_df) in enumerate(df_X.groupby(by='Sector')):\n",
    "        ax.plot(group_df.loc[:, 'X1'], group_df.loc[:, 'X2'], marker[i], label=\"{}\".format(group_name))\n",
    "\n",
    "        \n",
    "    ax.set_title(model_name)\n",
    "    plt.legend(numpoints=1, framealpha=0.3, loc=2)\n",
    "        \n",
    "plt.show()"
   ]
  },
  {
   "cell_type": "code",
   "execution_count": 12,
   "metadata": {},
   "outputs": [
    {
     "data": {
      "text/plain": [
       "array([[ 0.00336872,  0.00369315,  0.00351228, ...,  0.00421794,\n",
       "        -0.0007    , -0.00478697],\n",
       "       [ 0.01102816,  0.00100702, -0.00922058, ..., -0.00946497,\n",
       "         0.00565523, -0.01337978],\n",
       "       [ 0.01457051, -0.01693547, -0.01543547, ..., -0.01033121,\n",
       "        -0.00491256,  0.00663383],\n",
       "       ...,\n",
       "       [ 0.07619739, -0.01416049,  0.01915185, ...,  0.00107129,\n",
       "         0.03103258, -0.01608723],\n",
       "       [ 0.03804536, -0.00252185,  0.0101129 , ..., -0.0122002 ,\n",
       "         0.0025335 , -0.00073706],\n",
       "       [ 0.02096593, -0.00395483, -0.01817356, ..., -0.01495262,\n",
       "        -0.00050604, -0.00438741]])"
      ]
     },
     "metadata": {},
     "output_type": "display_data"
    }
   ],
   "source": []
  },
  {
   "cell_type": "code",
   "execution_count": 29,
   "metadata": {},
   "outputs": [],
   "source": [
    "from sklearn.decomposition import PCA\n",
    "from sklearn.preprocessing import StandardScaler\n",
    "pca = PCA(n_components=2)\n",
    "x = data.T.values\n",
    "x = StandardScaler().fit_transform(x)\n",
    "principalComponents = pca.fit_transform(x)\n",
    "principalDf = pd.DataFrame(data = principalComponents, index=stock_list\n",
    "             , columns = ['X1', 'X2'], )"
   ]
  },
  {
   "cell_type": "code",
   "execution_count": 30,
   "metadata": {},
   "outputs": [
    {
     "data": {
      "text/html": [
       "<div>\n",
       "<style scoped>\n",
       "    .dataframe tbody tr th:only-of-type {\n",
       "        vertical-align: middle;\n",
       "    }\n",
       "\n",
       "    .dataframe tbody tr th {\n",
       "        vertical-align: top;\n",
       "    }\n",
       "\n",
       "    .dataframe thead th {\n",
       "        text-align: right;\n",
       "    }\n",
       "</style>\n",
       "<table border=\"1\" class=\"dataframe\">\n",
       "  <thead>\n",
       "    <tr style=\"text-align: right;\">\n",
       "      <th></th>\n",
       "      <th>X1</th>\n",
       "      <th>X2</th>\n",
       "      <th>Sector</th>\n",
       "    </tr>\n",
       "  </thead>\n",
       "  <tbody>\n",
       "    <tr>\n",
       "      <th>SNPS</th>\n",
       "      <td>-5.051627</td>\n",
       "      <td>-0.651063</td>\n",
       "      <td>Information Technology</td>\n",
       "    </tr>\n",
       "    <tr>\n",
       "      <th>HOG</th>\n",
       "      <td>4.440396</td>\n",
       "      <td>-0.666827</td>\n",
       "      <td>Consumer Discretionary</td>\n",
       "    </tr>\n",
       "    <tr>\n",
       "      <th>TGT</th>\n",
       "      <td>8.202043</td>\n",
       "      <td>-7.015472</td>\n",
       "      <td>Consumer Discretionary</td>\n",
       "    </tr>\n",
       "    <tr>\n",
       "      <th>JBHT</th>\n",
       "      <td>-0.926646</td>\n",
       "      <td>-0.963853</td>\n",
       "      <td>Industrials</td>\n",
       "    </tr>\n",
       "    <tr>\n",
       "      <th>C</th>\n",
       "      <td>1.155575</td>\n",
       "      <td>4.928718</td>\n",
       "      <td>Financials</td>\n",
       "    </tr>\n",
       "  </tbody>\n",
       "</table>\n",
       "</div>"
      ],
      "text/plain": [
       "            X1        X2                  Sector\n",
       "SNPS -5.051627 -0.651063  Information Technology\n",
       "HOG   4.440396 -0.666827  Consumer Discretionary\n",
       "TGT   8.202043 -7.015472  Consumer Discretionary\n",
       "JBHT -0.926646 -0.963853             Industrials\n",
       "C     1.155575  4.928718              Financials"
      ]
     },
     "metadata": {},
     "output_type": "display_data"
    }
   ],
   "source": [
    "principalDf['Sector'] = sector_assignments\n",
    "display(principalDf.head())"
   ]
  },
  {
   "cell_type": "code",
   "execution_count": 33,
   "metadata": {},
   "outputs": [
    {
     "data": {
      "image/png": "[encoded data removed]",
      "text/plain": [
       "<Figure size 576x576 with 1 Axes>"
      ]
     },
     "metadata": {
      "needs_background": "light"
     },
     "output_type": "display_data"
    }
   ],
   "source": [
    "fig = plt.figure(figsize=(8,8))\n",
    "marker = ['o', 'x', '+', 'v', '^', '<', '>', 's', 'd', '.', ',']\n",
    "ax = fig.add_subplot(1,1,1)\n",
    "for i, (group_name, group_df) in enumerate(principalDf.groupby(by='Sector')):\n",
    "    ax.plot(group_df.loc[:, 'X1'], group_df.loc[:, 'X2'], marker[i], label=\"{}\".format(group_name))\n",
    "\n",
    "plt.legend(numpoints=1, framealpha=0.3, loc=2)\n",
    "        \n",
    "plt.show()"
   ]
  },
  {
   "cell_type": "code",
   "execution_count": 32,
   "metadata": {},
   "outputs": [
    {
     "data": {
      "text/plain": [
       "array([0.10089673, 0.08200344])"
      ]
     },
     "execution_count": 32,
     "metadata": {},
     "output_type": "execute_result"
    }
   ],
   "source": []
  },
  {
   "cell_type": "code",
   "execution_count": null,
   "metadata": {},
   "outputs": [],
   "source": []
  }
 ],
 "metadata": {
  "kernelspec": {
   "display_name": "Python 3",
   "language": "python",
   "name": "python3"
  },
  "language_info": {
   "codemirror_mode": {
    "name": "ipython",
    "version": 3
   },
   "file_extension": ".py",
   "mimetype": "text/x-python",
   "name": "python",
   "nbconvert_exporter": "python",
   "pygments_lexer": "ipython3",
   "version": "3.8.5"
  }
 },
 "nbformat": 4,
 "nbformat_minor": 2
}
